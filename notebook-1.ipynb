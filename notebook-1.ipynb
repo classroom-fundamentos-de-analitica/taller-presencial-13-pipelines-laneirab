{
 "cells": [
  {
   "cell_type": "markdown",
   "source": [
    "Aproximación típica\n",
    "==================="
   ],
   "metadata": {
    "collapsed": false
   },
   "id": "e0e9e66fc9998d58"
  },
  {
   "cell_type": "code",
   "execution_count": 1,
   "id": "initial_id",
   "metadata": {
    "collapsed": true,
    "ExecuteTime": {
     "end_time": "2024-08-12T14:05:15.972888700Z",
     "start_time": "2024-08-12T14:05:06.840876800Z"
    }
   },
   "outputs": [],
   "source": [
    "##\n",
    "## APROXIMACIÓN TIPICA\n",
    "##\n",
    "\n",
    "def train_estimator():\n",
    "\n",
    "    import pandas as pd\n",
    "    from sklearn.feature_extraction.text import TfidfTransformer\n",
    "    from sklearn.linear_model import LogisticRegression\n",
    "    from sklearn.model_selection import train_test_split\n",
    "    from sklearn.pipeline import Pipeline\n",
    "    from sklearn.metrics import balanced_accuracy_score\n",
    "    from sklearn.feature_extraction.text import CountVectorizer\n",
    "    from sklearn.metrics import accuracy_score, balanced_accuracy_score\n",
    "    # import os\n",
    "    import pickle\n",
    "\n",
    "    #\n",
    "    # Manejo de la data\n",
    "    #\n",
    "    dataframe = pd.read_csv(\n",
    "        \"sentences.csv.zip\",\n",
    "        index_col=False,\n",
    "        compression=\"zip\",\n",
    "    )\n",
    "\n",
    "    data = dataframe.phrase\n",
    "    target = dataframe.target\n",
    "    \n",
    "    X_train, X_test, y_train, y_test = train_test_split(\n",
    "        data,\n",
    "        target,\n",
    "        test_size=0.3,\n",
    "        shuffle=False,\n",
    "    )\n",
    "\n",
    "    #\n",
    "    # Modelo de regresión logística\n",
    "    #\n",
    "    vectorizer = CountVectorizer(\n",
    "        lowercase=True,\n",
    "        analyzer=\"word\",\n",
    "        token_pattern=r\"\\b[a-zA-Z]\\w+\\b\",\n",
    "        stop_words=\"english\",\n",
    "    )\n",
    "\n",
    "    transformer = TfidfTransformer()\n",
    "\n",
    "    lr_estimator = Pipeline(\n",
    "        steps=[\n",
    "            (\"vectorizer\", vectorizer),\n",
    "            (\"transformer\", transformer),\n",
    "            (\"estimator\", LogisticRegression(max_iter=1000)),\n",
    "        ],\n",
    "        verbose=False,\n",
    "    )\n",
    "\n",
    "    lr_estimator.fit(X_train, y_train)\n",
    "\n",
    "    with open(\"estimator.pickle\", \"wb\") as file:\n",
    "        pickle.dump(lr_estimator, file)\n",
    "\n",
    "train_estimator()\n"
   ]
  },
  {
   "cell_type": "code",
   "outputs": [
    {
     "data": {
      "text/plain": "array(['neutral', 'positive', 'positive', ..., 'neutral', 'positive',\n       'neutral'], dtype=object)"
     },
     "execution_count": 2,
     "metadata": {},
     "output_type": "execute_result"
    }
   ],
   "source": [
    "def use_estimator():\n",
    "\n",
    "    import pickle\n",
    "\n",
    "    import pandas as pd\n",
    "\n",
    "    dataframe = pd.read_csv(\n",
    "        \"sentences.csv.zip\",\n",
    "        index_col=False,\n",
    "        compression=\"zip\",\n",
    "    )\n",
    "\n",
    "    data = dataframe.phrase\n",
    "\n",
    "    with open(\"estimator.pickle\", \"rb\") as file:\n",
    "        estimator = pickle.load(file)\n",
    "\n",
    "    prediction = estimator.predict(data)\n",
    "\n",
    "    return prediction\n",
    "\n",
    "\n",
    "use_estimator()"
   ],
   "metadata": {
    "collapsed": false,
    "ExecuteTime": {
     "end_time": "2024-08-12T14:07:37.407104900Z",
     "start_time": "2024-08-12T14:07:37.315190800Z"
    }
   },
   "id": "c16507900c84ce1a",
   "execution_count": 2
  }
 ],
 "metadata": {
  "kernelspec": {
   "display_name": "Python 3",
   "language": "python",
   "name": "python3"
  },
  "language_info": {
   "codemirror_mode": {
    "name": "ipython",
    "version": 2
   },
   "file_extension": ".py",
   "mimetype": "text/x-python",
   "name": "python",
   "nbconvert_exporter": "python",
   "pygments_lexer": "ipython2",
   "version": "2.7.6"
  }
 },
 "nbformat": 4,
 "nbformat_minor": 5
}
